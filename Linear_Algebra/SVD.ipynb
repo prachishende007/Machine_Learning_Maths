{
  "nbformat": 4,
  "nbformat_minor": 0,
  "metadata": {
    "colab": {
      "provenance": []
    },
    "kernelspec": {
      "name": "python3",
      "display_name": "Python 3"
    },
    "language_info": {
      "name": "python"
    }
  },
  "cells": [
    {
      "cell_type": "markdown",
      "source": [
        "# **Singular Value Decomposition(SVD)**\n",
        "\n",
        " example using numpy(not using scikit-learn)\n",
        "\n",
        "Given a rectangle matrix A, it can be factored into the form A=U∑V^T where U and V^T are ortho and ∑ is a diagonal matrix of singular values"
      ],
      "metadata": {
        "id": "VTZjNP3eEGrK"
      }
    },
    {
      "cell_type": "code",
      "execution_count": null,
      "metadata": {
        "id": "EunsB4jwwhRz"
      },
      "outputs": [],
      "source": [
        "import numpy as np\n",
        "np.set_printoptions(precision=4, suppress=True)"
      ]
    },
    {
      "cell_type": "markdown",
      "source": [
        "We will take a simple 3x4 matrix and look its SVD with numpy"
      ],
      "metadata": {
        "id": "kw1b83gEE_rd"
      }
    },
    {
      "cell_type": "code",
      "source": [
        "a = np.array([[1,2,3,4], [1,1,2,3], [0,1,1,0]])\n",
        "a"
      ],
      "metadata": {
        "id": "Xa97_8jbFI0t",
        "colab": {
          "base_uri": "https://localhost:8080/"
        },
        "outputId": "9a3fdb65-c302-4722-fea3-14cec095eae9"
      },
      "execution_count": null,
      "outputs": [
        {
          "output_type": "execute_result",
          "data": {
            "text/plain": [
              "array([[1, 2, 3, 4],\n",
              "       [1, 1, 2, 3],\n",
              "       [0, 1, 1, 0]])"
            ]
          },
          "metadata": {},
          "execution_count": 5
        }
      ]
    },
    {
      "cell_type": "code",
      "source": [
        "u, s, vh = np.linalg.svd(a, full_matrices=True)\n",
        "u.dot(u.T) #if this gives identity matrix it is an orthogonal matrix\n",
        "s"
      ],
      "metadata": {
        "id": "Bh7GBBrYFWtH",
        "colab": {
          "base_uri": "https://localhost:8080/"
        },
        "outputId": "4d6b7903-fd4e-4e4f-deaf-9c0422a7b711"
      },
      "execution_count": null,
      "outputs": [
        {
          "output_type": "execute_result",
          "data": {
            "text/plain": [
              "array([6.7509, 1.1734, 0.2186])"
            ]
          },
          "metadata": {},
          "execution_count": 14
        }
      ]
    },
    {
      "cell_type": "code",
      "source": [
        "u.shape, s.shape, vh.shape"
      ],
      "metadata": {
        "id": "ofMMUjhvFtZp",
        "colab": {
          "base_uri": "https://localhost:8080/"
        },
        "outputId": "160e751e-3cad-409e-879c-84db02e5a207"
      },
      "execution_count": null,
      "outputs": [
        {
          "output_type": "execute_result",
          "data": {
            "text/plain": [
              "((3, 3), (3,), (4, 4))"
            ]
          },
          "metadata": {},
          "execution_count": 7
        }
      ]
    },
    {
      "cell_type": "code",
      "source": [
        "u"
      ],
      "metadata": {
        "id": "mkiVLiZ6Fy2S",
        "colab": {
          "base_uri": "https://localhost:8080/"
        },
        "outputId": "115d37ba-dccd-4ccf-f091-6616f4459db7"
      },
      "execution_count": null,
      "outputs": [
        {
          "output_type": "execute_result",
          "data": {
            "text/plain": [
              "array([[ 0.8109,  0.0934, -0.5776],\n",
              "       [ 0.57  , -0.3493,  0.7437],\n",
              "       [ 0.1323,  0.9324,  0.3365]])"
            ]
          },
          "metadata": {},
          "execution_count": 8
        }
      ]
    },
    {
      "cell_type": "code",
      "source": [
        "vh"
      ],
      "metadata": {
        "id": "fTBF6rUtGOse",
        "colab": {
          "base_uri": "https://localhost:8080/"
        },
        "outputId": "51254847-00de-41c6-cd6c-377c9574737d"
      },
      "execution_count": null,
      "outputs": [
        {
          "output_type": "execute_result",
          "data": {
            "text/plain": [
              "array([[ 0.2046,  0.3443,  0.5488,  0.7338],\n",
              "       [-0.2181,  0.6561,  0.438 , -0.5746],\n",
              "       [ 0.7598, -0.3431,  0.4167, -0.3625],\n",
              "       [-0.5774, -0.5774,  0.5774,  0.    ]])"
            ]
          },
          "metadata": {},
          "execution_count": 9
        }
      ]
    },
    {
      "cell_type": "code",
      "source": [
        "s"
      ],
      "metadata": {
        "id": "twx4radHGQu9",
        "colab": {
          "base_uri": "https://localhost:8080/"
        },
        "outputId": "657b7a2b-d3b7-4fe8-e9cf-bcb161d08aa5"
      },
      "execution_count": null,
      "outputs": [
        {
          "output_type": "execute_result",
          "data": {
            "text/plain": [
              "[6.7509, 1.1734, 0]"
            ]
          },
          "metadata": {},
          "execution_count": 11
        }
      ]
    },
    {
      "cell_type": "code",
      "source": [
        "s = [6.7509, 1.1734, 0]"
      ],
      "metadata": {
        "id": "Usp3EfOYHzN4"
      },
      "execution_count": null,
      "outputs": []
    },
    {
      "cell_type": "code",
      "source": [
        "np.dot(u,u.T)"
      ],
      "metadata": {
        "id": "brP7Tbx0GSDK",
        "colab": {
          "base_uri": "https://localhost:8080/"
        },
        "outputId": "2e5985cd-66d0-4b7d-c2e2-c77c4cb948d9"
      },
      "execution_count": null,
      "outputs": [
        {
          "output_type": "execute_result",
          "data": {
            "text/plain": [
              "array([[ 1.,  0.,  0.],\n",
              "       [ 0.,  1., -0.],\n",
              "       [ 0., -0.,  1.]])"
            ]
          },
          "metadata": {},
          "execution_count": 16
        }
      ]
    },
    {
      "cell_type": "code",
      "source": [
        "sd=np.diag(s) # makes a 3x3 diagonal matrix with x along the diagonal\n",
        "sd"
      ],
      "metadata": {
        "id": "mC2y7MH6GZYC",
        "colab": {
          "base_uri": "https://localhost:8080/"
        },
        "outputId": "b248c016-2302-4a0e-db17-241e994bf619"
      },
      "execution_count": null,
      "outputs": [
        {
          "output_type": "execute_result",
          "data": {
            "text/plain": [
              "array([[6.7509, 0.    , 0.    ],\n",
              "       [0.    , 1.1734, 0.    ],\n",
              "       [0.    , 0.    , 0.    ]])"
            ]
          },
          "metadata": {},
          "execution_count": 20
        }
      ]
    },
    {
      "cell_type": "code",
      "source": [
        "sd.shape"
      ],
      "metadata": {
        "id": "37X5BM94GjUf",
        "colab": {
          "base_uri": "https://localhost:8080/"
        },
        "outputId": "d26bd5ba-c5a1-426e-9e4b-0c88b29edd15"
      },
      "execution_count": null,
      "outputs": [
        {
          "output_type": "execute_result",
          "data": {
            "text/plain": [
              "(3, 3)"
            ]
          },
          "metadata": {},
          "execution_count": 21
        }
      ]
    },
    {
      "cell_type": "code",
      "source": [
        "b = np.zeros((3,4))"
      ],
      "metadata": {
        "id": "ui8Tk8CxGmcM"
      },
      "execution_count": null,
      "outputs": []
    },
    {
      "cell_type": "code",
      "source": [
        "b[:,:-1]=sd # assigning that first 3 columns of b comes from sd"
      ],
      "metadata": {
        "id": "Wqjr2icuGsQP"
      },
      "execution_count": null,
      "outputs": []
    },
    {
      "cell_type": "code",
      "source": [
        "sigma=b\n",
        "sigma"
      ],
      "metadata": {
        "id": "kPj_n0QJG91I",
        "colab": {
          "base_uri": "https://localhost:8080/"
        },
        "outputId": "7f4ab07f-254a-4ef8-ba93-26fd8ded3a85"
      },
      "execution_count": null,
      "outputs": [
        {
          "output_type": "execute_result",
          "data": {
            "text/plain": [
              "array([[6.7509, 0.    , 0.    , 0.    ],\n",
              "       [0.    , 1.1734, 0.    , 0.    ],\n",
              "       [0.    , 0.    , 0.    , 0.    ]])"
            ]
          },
          "metadata": {},
          "execution_count": 23
        }
      ]
    },
    {
      "cell_type": "code",
      "source": [
        "print(a)\n",
        "print(np.dot(np.dot(u, sigma), vh)) # reconstructing a as product of u, s and vh"
      ],
      "metadata": {
        "id": "on_aeIUZHHhq",
        "colab": {
          "base_uri": "https://localhost:8080/"
        },
        "outputId": "730c1a65-0ae8-463b-ab45-929192868912"
      },
      "execution_count": null,
      "outputs": [
        {
          "output_type": "stream",
          "name": "stdout",
          "text": [
            "[[1 2 3 4]\n",
            " [1 1 2 3]\n",
            " [0 1 1 0]]\n",
            "[[ 1.0959  1.9567  3.0526  3.9542]\n",
            " [ 0.8764  1.0558  1.9322  3.0589]\n",
            " [-0.0559  1.0252  0.9693  0.0267]]\n"
          ]
        }
      ]
    },
    {
      "cell_type": "markdown",
      "source": [
        "# Another Example"
      ],
      "metadata": {
        "id": "yrDBhbtMcMr1"
      }
    },
    {
      "cell_type": "code",
      "source": [
        "a= np.array([[1,2,3,4], [1,1,2,3], [0,1,1,0], [0,2,2,0], [0,5,5,0]])\n",
        "a"
      ],
      "metadata": {
        "colab": {
          "base_uri": "https://localhost:8080/"
        },
        "id": "MvrvwevTcPYy",
        "outputId": "faac7605-fe94-4266-e024-6dd36f4b1b59"
      },
      "execution_count": null,
      "outputs": [
        {
          "output_type": "execute_result",
          "data": {
            "text/plain": [
              "array([[1, 2, 3, 4],\n",
              "       [1, 1, 2, 3],\n",
              "       [0, 1, 1, 0],\n",
              "       [0, 2, 2, 0],\n",
              "       [0, 5, 5, 0]])"
            ]
          },
          "metadata": {},
          "execution_count": 27
        }
      ]
    },
    {
      "cell_type": "code",
      "source": [
        "u, s, vh = np.linalg.svd(a)\n",
        "u"
      ],
      "metadata": {
        "colab": {
          "base_uri": "https://localhost:8080/"
        },
        "id": "BNfyjuQidCxi",
        "outputId": "ea5c9a82-622e-43f5-80c7-9ea8dceee81e"
      },
      "execution_count": null,
      "outputs": [
        {
          "output_type": "execute_result",
          "data": {
            "text/plain": [
              "array([[-0.5185, -0.5983,  0.6108, -0.    , -0.    ],\n",
              "       [-0.3389, -0.512 , -0.7893,  0.    ,  0.    ],\n",
              "       [-0.1433,  0.1125, -0.0114,  0.0312, -0.9827],\n",
              "       [-0.2866,  0.225 , -0.0229, -0.9302,  0.0383],\n",
              "       [-0.7166,  0.5626, -0.0572,  0.3658,  0.1812]])"
            ]
          },
          "metadata": {},
          "execution_count": 29
        }
      ]
    },
    {
      "cell_type": "code",
      "source": [
        "s"
      ],
      "metadata": {
        "colab": {
          "base_uri": "https://localhost:8080/"
        },
        "id": "RiF0qxp8dN8o",
        "outputId": "78a56128-8964-4c13-df40-c78b543ac59d"
      },
      "execution_count": null,
      "outputs": [
        {
          "output_type": "execute_result",
          "data": {
            "text/plain": [
              "array([9.2296, 4.4454, 0.2312, 0.    ])"
            ]
          },
          "metadata": {},
          "execution_count": 30
        }
      ]
    },
    {
      "cell_type": "code",
      "source": [
        "vh"
      ],
      "metadata": {
        "colab": {
          "base_uri": "https://localhost:8080/"
        },
        "id": "CYHhHOhAdPOf",
        "outputId": "f3c0e6be-87bd-4c40-ad2f-5303d4a2a2dd"
      },
      "execution_count": null,
      "outputs": [
        {
          "output_type": "execute_result",
          "data": {
            "text/plain": [
              "array([[-0.0929, -0.6149, -0.7079, -0.3349],\n",
              "       [-0.2498,  0.375 ,  0.1252, -0.8839],\n",
              "       [-0.7718,  0.3846, -0.3872,  0.3264],\n",
              "       [ 0.5774,  0.5774, -0.5774,  0.    ]])"
            ]
          },
          "metadata": {},
          "execution_count": 31
        }
      ]
    },
    {
      "cell_type": "code",
      "source": [
        "u.shape, s.shape, vh.shape"
      ],
      "metadata": {
        "colab": {
          "base_uri": "https://localhost:8080/"
        },
        "id": "q-6n761tdQjV",
        "outputId": "433b95d3-291e-4b99-c3e2-ad24c74b94cc"
      },
      "execution_count": null,
      "outputs": [
        {
          "output_type": "execute_result",
          "data": {
            "text/plain": [
              "((5, 5), (4,), (4, 4))"
            ]
          },
          "metadata": {},
          "execution_count": 32
        }
      ]
    }
  ]
}