{
  "nbformat": 4,
  "nbformat_minor": 0,
  "metadata": {
    "colab": {
      "provenance": []
    },
    "kernelspec": {
      "name": "python3",
      "display_name": "Python 3"
    },
    "language_info": {
      "name": "python"
    }
  },
  "cells": [
    {
      "cell_type": "code",
      "execution_count": 1,
      "metadata": {
        "colab": {
          "base_uri": "https://localhost:8080/"
        },
        "id": "YZFFgHRrtTZz",
        "outputId": "ef33a53a-83f6-4c1a-a8a3-1899b4a71766"
      },
      "outputs": [
        {
          "output_type": "stream",
          "name": "stdout",
          "text": [
            "[[ 1  5]\n",
            " [ 3  7]\n",
            " [ 5 11]\n",
            " [ 7 14]\n",
            " [ 9 15]\n",
            " [13 17]\n",
            " [20 18]\n",
            " [20 19]\n",
            " [21 21]\n",
            " [24 22]\n",
            " [26 26]]\n"
          ]
        }
      ],
      "source": [
        "#Creating dataset:\n",
        "import numpy as np\n",
        "X = np.array([[1, 3, 5, 7, 9, 13, 20, 20, 21, 24, 26], [5, 7, 11, 14, 15, 17, 18, 19, 21, 22, 26]])\n",
        "X = X.T\n",
        "print(X)"
      ]
    },
    {
      "cell_type": "code",
      "source": [
        "import matplotlib.pyplot as plt\n",
        "plt.scatter(X[:, 0], X[:, 1])\n",
        "plt.show()"
      ],
      "metadata": {
        "colab": {
          "base_uri": "https://localhost:8080/",
          "height": 430
        },
        "id": "_8oO-VVcuMoo",
        "outputId": "f165b058-cde7-4a6d-bd28-08db55ef07a0"
      },
      "execution_count": 2,
      "outputs": [
        {
          "output_type": "display_data",
          "data": {
            "text/plain": [
              "<Figure size 640x480 with 1 Axes>"
            ],
            "image/png": "[encoded data removed]"
          },
          "metadata": {}
        }
      ]
    },
    {
      "cell_type": "code",
      "source": [
        "X_meaned = X-np.mean(X, axis = 0)\n",
        "print(X_meaned)\n",
        "plt.figure\n",
        "plt.scatter(X_meaned[:, 0], X_meaned[:, 1])\n",
        "plt.scatter(X[:, 0], X[:, 1])\n",
        "plt.show()"
      ],
      "metadata": {
        "colab": {
          "base_uri": "https://localhost:8080/",
          "height": 621
        },
        "id": "MIqqWoUKuVJN",
        "outputId": "6a8dfbe0-9977-4bf0-9389-a9cb9c809c70"
      },
      "execution_count": 4,
      "outputs": [
        {
          "output_type": "stream",
          "name": "stdout",
          "text": [
            "[[-12.54545455 -10.90909091]\n",
            " [-10.54545455  -8.90909091]\n",
            " [ -8.54545455  -4.90909091]\n",
            " [ -6.54545455  -1.90909091]\n",
            " [ -4.54545455  -0.90909091]\n",
            " [ -0.54545455   1.09090909]\n",
            " [  6.45454545   2.09090909]\n",
            " [  6.45454545   3.09090909]\n",
            " [  7.45454545   5.09090909]\n",
            " [ 10.45454545   6.09090909]\n",
            " [ 12.45454545  10.09090909]]\n"
          ]
        },
        {
          "output_type": "display_data",
          "data": {
            "text/plain": [
              "<Figure size 640x480 with 1 Axes>"
            ],
            "image/png": "[encoded data removed]"
          },
          "metadata": {}
        }
      ]
    },
    {
      "cell_type": "code",
      "source": [
        "C = np.cov(X_meaned, rowvar=False)\n",
        "print(C)"
      ],
      "metadata": {
        "colab": {
          "base_uri": "https://localhost:8080/"
        },
        "id": "kUAmahPEu2Ao",
        "outputId": "2217bddb-09a6-47b3-86c9-50edeb5e1f52"
      },
      "execution_count": 5,
      "outputs": [
        {
          "output_type": "stream",
          "name": "stdout",
          "text": [
            "[[80.87272727 54.95454545]\n",
            " [54.95454545 40.69090909]]\n"
          ]
        }
      ]
    },
    {
      "cell_type": "code",
      "source": [
        "eval, evec=np.linalg.eig(C)\n",
        "print(eval)\n",
        "print(evec)"
      ],
      "metadata": {
        "colab": {
          "base_uri": "https://localhost:8080/"
        },
        "id": "R42hh4dvvL8V",
        "outputId": "88bfe4ea-596c-4d09-94f3-8589a60229b6"
      },
      "execution_count": 6,
      "outputs": [
        {
          "output_type": "stream",
          "name": "stdout",
          "text": [
            "[119.29375452   2.26988184]\n",
            "[[ 0.81956216 -0.57299028]\n",
            " [ 0.57299028  0.81956216]]\n"
          ]
        }
      ]
    },
    {
      "cell_type": "code",
      "source": [
        "sorted_index=np.argsort(eval)[::-1]\n",
        "sorted_eval=eval[sorted_index]\n",
        "sorted_evec=evec[:,sorted_index]\n",
        "print(sorted_eval)\n",
        "print(sorted_evec)"
      ],
      "metadata": {
        "colab": {
          "base_uri": "https://localhost:8080/"
        },
        "id": "_aVv2-WJvXAv",
        "outputId": "6b9a52d0-6dd8-4ad3-fc18-88eeaf9ef2e3"
      },
      "execution_count": 7,
      "outputs": [
        {
          "output_type": "stream",
          "name": "stdout",
          "text": [
            "[119.29375452   2.26988184]\n",
            "[[ 0.81956216 -0.57299028]\n",
            " [ 0.57299028  0.81956216]]\n"
          ]
        }
      ]
    },
    {
      "cell_type": "code",
      "source": [
        "n=1\n",
        "evec_subset=sorted_evec[:,0:n]\n",
        "print(evec_subset)"
      ],
      "metadata": {
        "colab": {
          "base_uri": "https://localhost:8080/"
        },
        "id": "Itd01yVIvoJ9",
        "outputId": "31ea2eaf-2719-4acf-8eac-571894652f9d"
      },
      "execution_count": 8,
      "outputs": [
        {
          "output_type": "stream",
          "name": "stdout",
          "text": [
            "[[0.81956216]\n",
            " [0.57299028]]\n"
          ]
        }
      ]
    },
    {
      "cell_type": "code",
      "source": [
        "#Transform Data\n",
        "X_reduced = np.dot(evec_subset.transpose(), X_meaned.transpose()).transpose()\n",
        "print(X_reduced)\n"
      ],
      "metadata": {
        "colab": {
          "base_uri": "https://localhost:8080/"
        },
        "id": "adpQmjlGvxOE",
        "outputId": "c4bbffc5-44f5-4413-842b-441f0532cbcb"
      },
      "execution_count": 10,
      "outputs": [
        {
          "output_type": "stream",
          "name": "stdout",
          "text": [
            "[[-16.53258291]\n",
            " [-13.74747803]\n",
            " [ -9.81639259]\n",
            " [ -6.45829743]\n",
            " [ -4.24618282]\n",
            " [  0.17804639]\n",
            " [  6.48797183]\n",
            " [  7.0609621 ]\n",
            " [  9.02650482]\n",
            " [ 12.05818159]\n",
            " [ 15.98926703]]\n"
          ]
        }
      ]
    },
    {
      "cell_type": "code",
      "source": [
        "from sklearn.decomposition import PCA\n",
        "pca = PCA(n_components = 1)\n",
        "pca.fit(X_meaned)\n",
        "Xr = pca.transform(X_meaned)\n",
        "print(Xr)"
      ],
      "metadata": {
        "colab": {
          "base_uri": "https://localhost:8080/"
        },
        "id": "RsUVTQWQwIyM",
        "outputId": "613f5cc1-9fd9-4da6-c062-96e818dcce28"
      },
      "execution_count": 12,
      "outputs": [
        {
          "output_type": "stream",
          "name": "stdout",
          "text": [
            "[[-16.53258291]\n",
            " [-13.74747803]\n",
            " [ -9.81639259]\n",
            " [ -6.45829743]\n",
            " [ -4.24618282]\n",
            " [  0.17804639]\n",
            " [  6.48797183]\n",
            " [  7.0609621 ]\n",
            " [  9.02650482]\n",
            " [ 12.05818159]\n",
            " [ 15.98926703]]\n"
          ]
        }
      ]
    },
    {
      "cell_type": "code",
      "source": [],
      "metadata": {
        "id": "0NIW0rbTwrvF"
      },
      "execution_count": null,
      "outputs": []
    }
  ]
}